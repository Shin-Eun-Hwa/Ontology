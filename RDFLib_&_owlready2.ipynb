{
  "nbformat": 4,
  "nbformat_minor": 0,
  "metadata": {
    "colab": {
      "provenance": []
    },
    "kernelspec": {
      "name": "python3",
      "display_name": "Python 3"
    },
    "language_info": {
      "name": "python"
    }
  },
  "cells": [
    {
      "cell_type": "markdown",
      "source": [
        "# 필요 패키지 설치🦾"
      ],
      "metadata": {
        "id": "AlmEvumUbEDb"
      }
    },
    {
      "cell_type": "code",
      "execution_count": null,
      "metadata": {
        "colab": {
          "base_uri": "https://localhost:8080/"
        },
        "id": "tTnpdDf7YO4u",
        "outputId": "3c4b2381-4ca7-4c10-daaa-db3bf2eaa29c"
      },
      "outputs": [
        {
          "output_type": "stream",
          "name": "stdout",
          "text": [
            "Collecting rdflib\n",
            "  Downloading rdflib-7.0.0-py3-none-any.whl (531 kB)\n",
            "\u001b[2K     \u001b[90m━━━━━━━━━━━━━━━━━━━━━━━━━━━━━━━━━━━━━━━━\u001b[0m \u001b[32m531.9/531.9 kB\u001b[0m \u001b[31m8.1 MB/s\u001b[0m eta \u001b[36m0:00:00\u001b[0m\n",
            "\u001b[?25hCollecting isodate<0.7.0,>=0.6.0 (from rdflib)\n",
            "  Downloading isodate-0.6.1-py2.py3-none-any.whl (41 kB)\n",
            "\u001b[2K     \u001b[90m━━━━━━━━━━━━━━━━━━━━━━━━━━━━━━━━━━━━━━━━\u001b[0m \u001b[32m41.7/41.7 kB\u001b[0m \u001b[31m4.5 MB/s\u001b[0m eta \u001b[36m0:00:00\u001b[0m\n",
            "\u001b[?25hRequirement already satisfied: pyparsing<4,>=2.1.0 in /usr/local/lib/python3.10/dist-packages (from rdflib) (3.1.1)\n",
            "Requirement already satisfied: six in /usr/local/lib/python3.10/dist-packages (from isodate<0.7.0,>=0.6.0->rdflib) (1.16.0)\n",
            "Installing collected packages: isodate, rdflib\n",
            "Successfully installed isodate-0.6.1 rdflib-7.0.0\n",
            "Collecting owlready2\n",
            "  Downloading owlready2-0.45.tar.gz (27.3 MB)\n",
            "\u001b[2K     \u001b[90m━━━━━━━━━━━━━━━━━━━━━━━━━━━━━━━━━━━━━━━━\u001b[0m \u001b[32m27.3/27.3 MB\u001b[0m \u001b[31m23.6 MB/s\u001b[0m eta \u001b[36m0:00:00\u001b[0m\n",
            "\u001b[?25h  Installing build dependencies ... \u001b[?25l\u001b[?25hdone\n",
            "  Getting requirements to build wheel ... \u001b[?25l\u001b[?25hdone\n",
            "  Preparing metadata (pyproject.toml) ... \u001b[?25l\u001b[?25hdone\n",
            "Building wheels for collected packages: owlready2\n",
            "  Building wheel for owlready2 (pyproject.toml) ... \u001b[?25l\u001b[?25hdone\n",
            "  Created wheel for owlready2: filename=owlready2-0.45-cp310-cp310-linux_x86_64.whl size=24077389 sha256=23cbc1a6e124f0346738a3ccd15b650e6a4b178b5f2680b7fd26cf4e8dd08068\n",
            "  Stored in directory: /root/.cache/pip/wheels/5c/f4/9d/249b1671d391e3feddd443c7d0eb79a732afabc9f370591271\n",
            "Successfully built owlready2\n",
            "Installing collected packages: owlready2\n",
            "Successfully installed owlready2-0.45\n"
          ]
        }
      ],
      "source": [
        "!pip install rdflib\n",
        "!pip install owlready2"
      ]
    },
    {
      "cell_type": "markdown",
      "source": [
        "# RDFlib🧩"
      ],
      "metadata": {
        "id": "FlrhUfrlv3k7"
      }
    },
    {
      "cell_type": "markdown",
      "source": [
        "## RDF Graph🪓"
      ],
      "metadata": {
        "id": "pp90UrJ6eGpl"
      }
    },
    {
      "cell_type": "code",
      "source": [
        "# 필요 패키지 불러오기\n",
        "from rdflib import Graph, Literal, URIRef, Namespace\n",
        "from rdflib.namespace import RDF, RDFS, OWL\n",
        "\n",
        "# 그래프 객체 생성\n",
        "g = Graph()\n",
        "\n",
        "# NameSpace 정의\n",
        "snu = Namespace('https://www.my.snu.ac.kr/ontology#')\n",
        "\n",
        "# 'https://www.my.snu.ac.kr/ontology#'에 대한 prefix를 'snu'로 지정\n",
        "g.bind(\"snu\", snu)\n",
        "\n",
        "# 그래프에 triple 추가하기\n",
        "g.add((snu.Yamada, RDF.type, snu.Professor))\n",
        "g.add((snu.John, RDF.type, snu.Student))\n",
        "g.add((snu.Mary, RDF.type, snu.Student))\n",
        "g.add((snu.Professor, RDFS.subClassOf, snu.SNUPeople))\n",
        "g.add((snu.Student, RDFS.subClassOf, snu.SNUPeople))\n",
        "g.add((snu.Yamada, snu.teaches, snu.John))\n",
        "g.add((snu.Yamada, snu.teaches, snu.Mary))\n",
        "g.add((snu.John, snu.take_class, Literal('온톨로지 및 지식그래프')))\n",
        "\n",
        "# 그래프에 triple 삭제\n",
        "g.remove((snu.Yamada, snu.teaches, snu.Mary))\n"
      ],
      "metadata": {
        "colab": {
          "base_uri": "https://localhost:8080/"
        },
        "id": "RDBEl1TOYU4K",
        "outputId": "ca7b93ed-6264-4a8a-aaf3-ea396c5c24b2"
      },
      "execution_count": null,
      "outputs": [
        {
          "output_type": "execute_result",
          "data": {
            "text/plain": [
              "<Graph identifier=N27b9defb64684047becf8609eac74b36 (<class 'rdflib.graph.Graph'>)>"
            ]
          },
          "metadata": {},
          "execution_count": 2
        }
      ]
    },
    {
      "cell_type": "markdown",
      "source": [
        "## Triple 확인👀\n",
        "\n"
      ],
      "metadata": {
        "id": "9xJDli6vmlFc"
      }
    },
    {
      "cell_type": "markdown",
      "source": [
        "\n",
        "<img src = \"https://drive.google.com/uc?id=1dUk7JuoGlHde6Z9FTvEmSykI1_HbdwJn\">\n"
      ],
      "metadata": {
        "id": "QJBmHiniv8Q4"
      }
    },
    {
      "cell_type": "code",
      "source": [
        "# 저장된 triple 확인하기\n",
        "for s, p, o in g:\n",
        "  print((s, p, o))"
      ],
      "metadata": {
        "colab": {
          "base_uri": "https://localhost:8080/"
        },
        "id": "chSeZloHZSVZ",
        "outputId": "2428cc49-6cf5-41d9-c174-a630519d2f80"
      },
      "execution_count": null,
      "outputs": [
        {
          "output_type": "stream",
          "name": "stdout",
          "text": [
            "(rdflib.term.URIRef('https://www.my.snu.ac.kr/ontology#Yamada'), rdflib.term.URIRef('http://www.w3.org/1999/02/22-rdf-syntax-ns#type'), rdflib.term.URIRef('https://www.my.snu.ac.kr/ontology#Professor'))\n",
            "(rdflib.term.URIRef('https://www.my.snu.ac.kr/ontology#John'), rdflib.term.URIRef('http://www.w3.org/1999/02/22-rdf-syntax-ns#type'), rdflib.term.URIRef('https://www.my.snu.ac.kr/ontology#Student'))\n",
            "(rdflib.term.URIRef('https://www.my.snu.ac.kr/ontology#Student'), rdflib.term.URIRef('http://www.w3.org/2000/01/rdf-schema#subClassOf'), rdflib.term.URIRef('https://www.my.snu.ac.kr/ontology#SNUPeople'))\n",
            "(rdflib.term.URIRef('https://www.my.snu.ac.kr/ontology#Professor'), rdflib.term.URIRef('http://www.w3.org/2000/01/rdf-schema#subClassOf'), rdflib.term.URIRef('https://www.my.snu.ac.kr/ontology#SNUPeople'))\n",
            "(rdflib.term.URIRef('https://www.my.snu.ac.kr/ontology#John'), rdflib.term.URIRef('https://www.my.snu.ac.kr/ontology#take_class'), rdflib.term.Literal('온톨로지 및 지식그래프'))\n",
            "(rdflib.term.URIRef('https://www.my.snu.ac.kr/ontology#Mary'), rdflib.term.URIRef('http://www.w3.org/1999/02/22-rdf-syntax-ns#type'), rdflib.term.URIRef('https://www.my.snu.ac.kr/ontology#Student'))\n",
            "(rdflib.term.URIRef('https://www.my.snu.ac.kr/ontology#Yamada'), rdflib.term.URIRef('https://www.my.snu.ac.kr/ontology#teaches'), rdflib.term.URIRef('https://www.my.snu.ac.kr/ontology#John'))\n"
          ]
        }
      ]
    },
    {
      "cell_type": "code",
      "source": [
        "# 그래프 길이 확인하기\n",
        "print(len(g))"
      ],
      "metadata": {
        "colab": {
          "base_uri": "https://localhost:8080/"
        },
        "id": "39on9oT4oERx",
        "outputId": "dd13082e-2d98-49bd-9ade-d398c7da51f8"
      },
      "execution_count": null,
      "outputs": [
        {
          "output_type": "stream",
          "name": "stdout",
          "text": [
            "7\n"
          ]
        }
      ]
    },
    {
      "cell_type": "code",
      "source": [
        "# 표로 살펴보기\n",
        "import pandas as pd\n",
        "\n",
        "sub = []\n",
        "obj = []\n",
        "pred = []\n",
        "\n",
        "for s, p, o in g:\n",
        "  sub.append(s)\n",
        "  obj.append(o)\n",
        "  pred.append(p)\n",
        "\n",
        "df = pd.DataFrame(({\n",
        "    'subject': sub,\n",
        "    'predicate': pred,\n",
        "    'object': obj\n",
        "  }))\n",
        "\n",
        "df = df.replace(\"http.*#\", '', regex = True)\n",
        "df"
      ],
      "metadata": {
        "colab": {
          "base_uri": "https://localhost:8080/",
          "height": 268
        },
        "id": "mskCqQV9d2YP",
        "outputId": "d2e5a4ae-ec28-47bf-c3d2-25746b02bb6c"
      },
      "execution_count": null,
      "outputs": [
        {
          "output_type": "execute_result",
          "data": {
            "text/plain": [
              "     subject   predicate        object\n",
              "0     Yamada        type     Professor\n",
              "1       John        type       Student\n",
              "2    Student  subClassOf     SNUPeople\n",
              "3  Professor  subClassOf     SNUPeople\n",
              "4       John  take_class  온톨로지 및 지식그래프\n",
              "5       Mary        type       Student\n",
              "6     Yamada     teaches          John"
            ],
            "text/html": [
              "\n",
              "  <div id=\"df-041e67c0-6d66-46d6-9ec5-f5828a46d702\" class=\"colab-df-container\">\n",
              "    <div>\n",
              "<style scoped>\n",
              "    .dataframe tbody tr th:only-of-type {\n",
              "        vertical-align: middle;\n",
              "    }\n",
              "\n",
              "    .dataframe tbody tr th {\n",
              "        vertical-align: top;\n",
              "    }\n",
              "\n",
              "    .dataframe thead th {\n",
              "        text-align: right;\n",
              "    }\n",
              "</style>\n",
              "<table border=\"1\" class=\"dataframe\">\n",
              "  <thead>\n",
              "    <tr style=\"text-align: right;\">\n",
              "      <th></th>\n",
              "      <th>subject</th>\n",
              "      <th>predicate</th>\n",
              "      <th>object</th>\n",
              "    </tr>\n",
              "  </thead>\n",
              "  <tbody>\n",
              "    <tr>\n",
              "      <th>0</th>\n",
              "      <td>Yamada</td>\n",
              "      <td>type</td>\n",
              "      <td>Professor</td>\n",
              "    </tr>\n",
              "    <tr>\n",
              "      <th>1</th>\n",
              "      <td>John</td>\n",
              "      <td>type</td>\n",
              "      <td>Student</td>\n",
              "    </tr>\n",
              "    <tr>\n",
              "      <th>2</th>\n",
              "      <td>Student</td>\n",
              "      <td>subClassOf</td>\n",
              "      <td>SNUPeople</td>\n",
              "    </tr>\n",
              "    <tr>\n",
              "      <th>3</th>\n",
              "      <td>Professor</td>\n",
              "      <td>subClassOf</td>\n",
              "      <td>SNUPeople</td>\n",
              "    </tr>\n",
              "    <tr>\n",
              "      <th>4</th>\n",
              "      <td>John</td>\n",
              "      <td>take_class</td>\n",
              "      <td>온톨로지 및 지식그래프</td>\n",
              "    </tr>\n",
              "    <tr>\n",
              "      <th>5</th>\n",
              "      <td>Mary</td>\n",
              "      <td>type</td>\n",
              "      <td>Student</td>\n",
              "    </tr>\n",
              "    <tr>\n",
              "      <th>6</th>\n",
              "      <td>Yamada</td>\n",
              "      <td>teaches</td>\n",
              "      <td>John</td>\n",
              "    </tr>\n",
              "  </tbody>\n",
              "</table>\n",
              "</div>\n",
              "    <div class=\"colab-df-buttons\">\n",
              "\n",
              "  <div class=\"colab-df-container\">\n",
              "    <button class=\"colab-df-convert\" onclick=\"convertToInteractive('df-041e67c0-6d66-46d6-9ec5-f5828a46d702')\"\n",
              "            title=\"Convert this dataframe to an interactive table.\"\n",
              "            style=\"display:none;\">\n",
              "\n",
              "  <svg xmlns=\"http://www.w3.org/2000/svg\" height=\"24px\" viewBox=\"0 -960 960 960\">\n",
              "    <path d=\"M120-120v-720h720v720H120Zm60-500h600v-160H180v160Zm220 220h160v-160H400v160Zm0 220h160v-160H400v160ZM180-400h160v-160H180v160Zm440 0h160v-160H620v160ZM180-180h160v-160H180v160Zm440 0h160v-160H620v160Z\"/>\n",
              "  </svg>\n",
              "    </button>\n",
              "\n",
              "  <style>\n",
              "    .colab-df-container {\n",
              "      display:flex;\n",
              "      gap: 12px;\n",
              "    }\n",
              "\n",
              "    .colab-df-convert {\n",
              "      background-color: #E8F0FE;\n",
              "      border: none;\n",
              "      border-radius: 50%;\n",
              "      cursor: pointer;\n",
              "      display: none;\n",
              "      fill: #1967D2;\n",
              "      height: 32px;\n",
              "      padding: 0 0 0 0;\n",
              "      width: 32px;\n",
              "    }\n",
              "\n",
              "    .colab-df-convert:hover {\n",
              "      background-color: #E2EBFA;\n",
              "      box-shadow: 0px 1px 2px rgba(60, 64, 67, 0.3), 0px 1px 3px 1px rgba(60, 64, 67, 0.15);\n",
              "      fill: #174EA6;\n",
              "    }\n",
              "\n",
              "    .colab-df-buttons div {\n",
              "      margin-bottom: 4px;\n",
              "    }\n",
              "\n",
              "    [theme=dark] .colab-df-convert {\n",
              "      background-color: #3B4455;\n",
              "      fill: #D2E3FC;\n",
              "    }\n",
              "\n",
              "    [theme=dark] .colab-df-convert:hover {\n",
              "      background-color: #434B5C;\n",
              "      box-shadow: 0px 1px 3px 1px rgba(0, 0, 0, 0.15);\n",
              "      filter: drop-shadow(0px 1px 2px rgba(0, 0, 0, 0.3));\n",
              "      fill: #FFFFFF;\n",
              "    }\n",
              "  </style>\n",
              "\n",
              "    <script>\n",
              "      const buttonEl =\n",
              "        document.querySelector('#df-041e67c0-6d66-46d6-9ec5-f5828a46d702 button.colab-df-convert');\n",
              "      buttonEl.style.display =\n",
              "        google.colab.kernel.accessAllowed ? 'block' : 'none';\n",
              "\n",
              "      async function convertToInteractive(key) {\n",
              "        const element = document.querySelector('#df-041e67c0-6d66-46d6-9ec5-f5828a46d702');\n",
              "        const dataTable =\n",
              "          await google.colab.kernel.invokeFunction('convertToInteractive',\n",
              "                                                    [key], {});\n",
              "        if (!dataTable) return;\n",
              "\n",
              "        const docLinkHtml = 'Like what you see? Visit the ' +\n",
              "          '<a target=\"_blank\" href=https://colab.research.google.com/notebooks/data_table.ipynb>data table notebook</a>'\n",
              "          + ' to learn more about interactive tables.';\n",
              "        element.innerHTML = '';\n",
              "        dataTable['output_type'] = 'display_data';\n",
              "        await google.colab.output.renderOutput(dataTable, element);\n",
              "        const docLink = document.createElement('div');\n",
              "        docLink.innerHTML = docLinkHtml;\n",
              "        element.appendChild(docLink);\n",
              "      }\n",
              "    </script>\n",
              "  </div>\n",
              "\n",
              "\n",
              "<div id=\"df-cc4930ee-97d6-477e-b8ef-490ead1ab373\">\n",
              "  <button class=\"colab-df-quickchart\" onclick=\"quickchart('df-cc4930ee-97d6-477e-b8ef-490ead1ab373')\"\n",
              "            title=\"Suggest charts\"\n",
              "            style=\"display:none;\">\n",
              "\n",
              "<svg xmlns=\"http://www.w3.org/2000/svg\" height=\"24px\"viewBox=\"0 0 24 24\"\n",
              "     width=\"24px\">\n",
              "    <g>\n",
              "        <path d=\"M19 3H5c-1.1 0-2 .9-2 2v14c0 1.1.9 2 2 2h14c1.1 0 2-.9 2-2V5c0-1.1-.9-2-2-2zM9 17H7v-7h2v7zm4 0h-2V7h2v10zm4 0h-2v-4h2v4z\"/>\n",
              "    </g>\n",
              "</svg>\n",
              "  </button>\n",
              "\n",
              "<style>\n",
              "  .colab-df-quickchart {\n",
              "      --bg-color: #E8F0FE;\n",
              "      --fill-color: #1967D2;\n",
              "      --hover-bg-color: #E2EBFA;\n",
              "      --hover-fill-color: #174EA6;\n",
              "      --disabled-fill-color: #AAA;\n",
              "      --disabled-bg-color: #DDD;\n",
              "  }\n",
              "\n",
              "  [theme=dark] .colab-df-quickchart {\n",
              "      --bg-color: #3B4455;\n",
              "      --fill-color: #D2E3FC;\n",
              "      --hover-bg-color: #434B5C;\n",
              "      --hover-fill-color: #FFFFFF;\n",
              "      --disabled-bg-color: #3B4455;\n",
              "      --disabled-fill-color: #666;\n",
              "  }\n",
              "\n",
              "  .colab-df-quickchart {\n",
              "    background-color: var(--bg-color);\n",
              "    border: none;\n",
              "    border-radius: 50%;\n",
              "    cursor: pointer;\n",
              "    display: none;\n",
              "    fill: var(--fill-color);\n",
              "    height: 32px;\n",
              "    padding: 0;\n",
              "    width: 32px;\n",
              "  }\n",
              "\n",
              "  .colab-df-quickchart:hover {\n",
              "    background-color: var(--hover-bg-color);\n",
              "    box-shadow: 0 1px 2px rgba(60, 64, 67, 0.3), 0 1px 3px 1px rgba(60, 64, 67, 0.15);\n",
              "    fill: var(--button-hover-fill-color);\n",
              "  }\n",
              "\n",
              "  .colab-df-quickchart-complete:disabled,\n",
              "  .colab-df-quickchart-complete:disabled:hover {\n",
              "    background-color: var(--disabled-bg-color);\n",
              "    fill: var(--disabled-fill-color);\n",
              "    box-shadow: none;\n",
              "  }\n",
              "\n",
              "  .colab-df-spinner {\n",
              "    border: 2px solid var(--fill-color);\n",
              "    border-color: transparent;\n",
              "    border-bottom-color: var(--fill-color);\n",
              "    animation:\n",
              "      spin 1s steps(1) infinite;\n",
              "  }\n",
              "\n",
              "  @keyframes spin {\n",
              "    0% {\n",
              "      border-color: transparent;\n",
              "      border-bottom-color: var(--fill-color);\n",
              "      border-left-color: var(--fill-color);\n",
              "    }\n",
              "    20% {\n",
              "      border-color: transparent;\n",
              "      border-left-color: var(--fill-color);\n",
              "      border-top-color: var(--fill-color);\n",
              "    }\n",
              "    30% {\n",
              "      border-color: transparent;\n",
              "      border-left-color: var(--fill-color);\n",
              "      border-top-color: var(--fill-color);\n",
              "      border-right-color: var(--fill-color);\n",
              "    }\n",
              "    40% {\n",
              "      border-color: transparent;\n",
              "      border-right-color: var(--fill-color);\n",
              "      border-top-color: var(--fill-color);\n",
              "    }\n",
              "    60% {\n",
              "      border-color: transparent;\n",
              "      border-right-color: var(--fill-color);\n",
              "    }\n",
              "    80% {\n",
              "      border-color: transparent;\n",
              "      border-right-color: var(--fill-color);\n",
              "      border-bottom-color: var(--fill-color);\n",
              "    }\n",
              "    90% {\n",
              "      border-color: transparent;\n",
              "      border-bottom-color: var(--fill-color);\n",
              "    }\n",
              "  }\n",
              "</style>\n",
              "\n",
              "  <script>\n",
              "    async function quickchart(key) {\n",
              "      const quickchartButtonEl =\n",
              "        document.querySelector('#' + key + ' button');\n",
              "      quickchartButtonEl.disabled = true;  // To prevent multiple clicks.\n",
              "      quickchartButtonEl.classList.add('colab-df-spinner');\n",
              "      try {\n",
              "        const charts = await google.colab.kernel.invokeFunction(\n",
              "            'suggestCharts', [key], {});\n",
              "      } catch (error) {\n",
              "        console.error('Error during call to suggestCharts:', error);\n",
              "      }\n",
              "      quickchartButtonEl.classList.remove('colab-df-spinner');\n",
              "      quickchartButtonEl.classList.add('colab-df-quickchart-complete');\n",
              "    }\n",
              "    (() => {\n",
              "      let quickchartButtonEl =\n",
              "        document.querySelector('#df-cc4930ee-97d6-477e-b8ef-490ead1ab373 button');\n",
              "      quickchartButtonEl.style.display =\n",
              "        google.colab.kernel.accessAllowed ? 'block' : 'none';\n",
              "    })();\n",
              "  </script>\n",
              "</div>\n",
              "    </div>\n",
              "  </div>\n"
            ]
          },
          "metadata": {},
          "execution_count": 5
        }
      ]
    },
    {
      "cell_type": "code",
      "source": [
        "# 다양한 형식으로 출력해보기\n",
        "\n",
        "## RDF/XML\n",
        "print('✅ RDF/XML format')\n",
        "print(g.serialize(format = 'xml'))\n",
        "\n",
        "## Turtle\n",
        "print('✅ Turtle format')\n",
        "print(g.serialize(format = 'ttl'))\n",
        "\n",
        "## JSON\n",
        "print('✅ JSON format')\n",
        "print(g.serialize(format = 'json-ld'))\n"
      ],
      "metadata": {
        "colab": {
          "base_uri": "https://localhost:8080/"
        },
        "id": "9dBUd5m5gBgv",
        "outputId": "5772974b-2e14-4eca-d944-0f94eeeeef92"
      },
      "execution_count": null,
      "outputs": [
        {
          "output_type": "stream",
          "name": "stdout",
          "text": [
            "✅ RDF/XML format\n",
            "<?xml version=\"1.0\" encoding=\"utf-8\"?>\n",
            "<rdf:RDF\n",
            "   xmlns:rdf=\"http://www.w3.org/1999/02/22-rdf-syntax-ns#\"\n",
            "   xmlns:rdfs=\"http://www.w3.org/2000/01/rdf-schema#\"\n",
            "   xmlns:snu=\"https://www.my.snu.ac.kr/ontology#\"\n",
            ">\n",
            "  <rdf:Description rdf:about=\"https://www.my.snu.ac.kr/ontology#Yamada\">\n",
            "    <rdf:type rdf:resource=\"https://www.my.snu.ac.kr/ontology#Professor\"/>\n",
            "    <snu:teaches rdf:resource=\"https://www.my.snu.ac.kr/ontology#John\"/>\n",
            "  </rdf:Description>\n",
            "  <rdf:Description rdf:about=\"https://www.my.snu.ac.kr/ontology#John\">\n",
            "    <rdf:type rdf:resource=\"https://www.my.snu.ac.kr/ontology#Student\"/>\n",
            "    <snu:take_class>온톨로지 및 지식그래프</snu:take_class>\n",
            "  </rdf:Description>\n",
            "  <rdf:Description rdf:about=\"https://www.my.snu.ac.kr/ontology#Student\">\n",
            "    <rdfs:subClassOf rdf:resource=\"https://www.my.snu.ac.kr/ontology#SNUPeople\"/>\n",
            "  </rdf:Description>\n",
            "  <rdf:Description rdf:about=\"https://www.my.snu.ac.kr/ontology#Professor\">\n",
            "    <rdfs:subClassOf rdf:resource=\"https://www.my.snu.ac.kr/ontology#SNUPeople\"/>\n",
            "  </rdf:Description>\n",
            "  <rdf:Description rdf:about=\"https://www.my.snu.ac.kr/ontology#Mary\">\n",
            "    <rdf:type rdf:resource=\"https://www.my.snu.ac.kr/ontology#Student\"/>\n",
            "  </rdf:Description>\n",
            "</rdf:RDF>\n",
            "\n",
            "✅ Turtle format\n",
            "@prefix rdfs: <http://www.w3.org/2000/01/rdf-schema#> .\n",
            "@prefix snu: <https://www.my.snu.ac.kr/ontology#> .\n",
            "\n",
            "snu:Mary a snu:Student .\n",
            "\n",
            "snu:Yamada a snu:Professor ;\n",
            "    snu:teaches snu:John .\n",
            "\n",
            "snu:John a snu:Student ;\n",
            "    snu:take_class \"온톨로지 및 지식그래프\" .\n",
            "\n",
            "snu:Professor rdfs:subClassOf snu:SNUPeople .\n",
            "\n",
            "snu:Student rdfs:subClassOf snu:SNUPeople .\n",
            "\n",
            "\n",
            "✅ JSON format\n",
            "[\n",
            "  {\n",
            "    \"@id\": \"https://www.my.snu.ac.kr/ontology#Professor\",\n",
            "    \"http://www.w3.org/2000/01/rdf-schema#subClassOf\": [\n",
            "      {\n",
            "        \"@id\": \"https://www.my.snu.ac.kr/ontology#SNUPeople\"\n",
            "      }\n",
            "    ]\n",
            "  },\n",
            "  {\n",
            "    \"@id\": \"https://www.my.snu.ac.kr/ontology#John\",\n",
            "    \"@type\": [\n",
            "      \"https://www.my.snu.ac.kr/ontology#Student\"\n",
            "    ],\n",
            "    \"https://www.my.snu.ac.kr/ontology#take_class\": [\n",
            "      {\n",
            "        \"@value\": \"온톨로지 및 지식그래프\"\n",
            "      }\n",
            "    ]\n",
            "  },\n",
            "  {\n",
            "    \"@id\": \"https://www.my.snu.ac.kr/ontology#Yamada\",\n",
            "    \"@type\": [\n",
            "      \"https://www.my.snu.ac.kr/ontology#Professor\"\n",
            "    ],\n",
            "    \"https://www.my.snu.ac.kr/ontology#teaches\": [\n",
            "      {\n",
            "        \"@id\": \"https://www.my.snu.ac.kr/ontology#John\"\n",
            "      }\n",
            "    ]\n",
            "  },\n",
            "  {\n",
            "    \"@id\": \"https://www.my.snu.ac.kr/ontology#Mary\",\n",
            "    \"@type\": [\n",
            "      \"https://www.my.snu.ac.kr/ontology#Student\"\n",
            "    ]\n",
            "  },\n",
            "  {\n",
            "    \"@id\": \"https://www.my.snu.ac.kr/ontology#Student\",\n",
            "    \"http://www.w3.org/2000/01/rdf-schema#subClassOf\": [\n",
            "      {\n",
            "        \"@id\": \"https://www.my.snu.ac.kr/ontology#SNUPeople\"\n",
            "      }\n",
            "    ]\n",
            "  }\n",
            "]\n"
          ]
        }
      ]
    },
    {
      "cell_type": "code",
      "source": [
        "# 파일 저장\n",
        "g.serialize(destination = \"SNU.rdf\", format = 'xml')"
      ],
      "metadata": {
        "colab": {
          "base_uri": "https://localhost:8080/"
        },
        "id": "laegTbQi47qO",
        "outputId": "0218f5fb-d3e7-40a0-f5f8-1168b46d4a14"
      },
      "execution_count": null,
      "outputs": [
        {
          "output_type": "execute_result",
          "data": {
            "text/plain": [
              "<Graph identifier=N27b9defb64684047becf8609eac74b36 (<class 'rdflib.graph.Graph'>)>"
            ]
          },
          "metadata": {},
          "execution_count": 7
        }
      ]
    },
    {
      "cell_type": "markdown",
      "source": [
        "### 검색하기🔎"
      ],
      "metadata": {
        "id": "5tJwE-JiwSra"
      }
    },
    {
      "cell_type": "code",
      "source": [
        "# SNUPeople 클래스의 서브 클래스 모두 찾기\n",
        "for role in g.subjects(RDFS.subClassOf, snu.SNUPeople):\n",
        "  print(role)"
      ],
      "metadata": {
        "colab": {
          "base_uri": "https://localhost:8080/"
        },
        "id": "nUL0JE4owR9m",
        "outputId": "a502ad59-a9d7-4035-ddd5-1189be8f1468"
      },
      "execution_count": null,
      "outputs": [
        {
          "output_type": "stream",
          "name": "stdout",
          "text": [
            "https://www.my.snu.ac.kr/ontology#Professor\n",
            "https://www.my.snu.ac.kr/ontology#Student\n"
          ]
        }
      ]
    },
    {
      "cell_type": "code",
      "source": [
        "# SPARQL로 검색하기 1\n",
        "q = \"\"\"\n",
        "PREFIX rdfs: <http://www.w3.org/2000/01/rdf-schema#>\n",
        "PREFIX snu: <https://www.my.snu.ac.kr/ontology#>\n",
        "\n",
        "SELECT ?role\n",
        "WHERE {?role rdfs:subClassOf snu:SNUPeople}\n",
        "\"\"\"\n",
        "\n",
        "for qq in g.query(q):\n",
        "  print(qq)"
      ],
      "metadata": {
        "colab": {
          "base_uri": "https://localhost:8080/"
        },
        "id": "04ow1IUk04eu",
        "outputId": "96d89292-5ea4-48f6-a11b-fd3a63139df1"
      },
      "execution_count": null,
      "outputs": [
        {
          "output_type": "stream",
          "name": "stdout",
          "text": [
            "(rdflib.term.URIRef('https://www.my.snu.ac.kr/ontology#Professor'),)\n",
            "(rdflib.term.URIRef('https://www.my.snu.ac.kr/ontology#Student'),)\n"
          ]
        }
      ]
    },
    {
      "cell_type": "code",
      "source": [
        "# 학생이 수강하는 수업 찾기\n",
        "for student in g.subjects(RDF.type, snu.Student):\n",
        "  for classes in g.objects(student, snu.take_class):\n",
        "    print(classes)"
      ],
      "metadata": {
        "colab": {
          "base_uri": "https://localhost:8080/"
        },
        "id": "ynF9pIHkyyCm",
        "outputId": "6e29512c-f5ce-4813-f7b7-69e387fba255"
      },
      "execution_count": null,
      "outputs": [
        {
          "output_type": "stream",
          "name": "stdout",
          "text": [
            "온톨로지 및 지식그래프\n"
          ]
        }
      ]
    },
    {
      "cell_type": "code",
      "source": [
        "# SPARQL로 검색하기 2\n",
        "\n",
        "q1 = \"\"\"\n",
        "PREFIX rdf: <http://www.w3.org/1999/02/22-rdf-syntax-ns#>\n",
        "PREFIX rdfs: <http://www.w3.org/2000/01/rdf-schema#>\n",
        "PREFIX snu: <https://www.my.snu.ac.kr/ontology#>\n",
        "\n",
        "SELECT ?class\n",
        "WHERE {?student rdf:type snu:Student;\n",
        "snu:take_class ?class\n",
        "}\n",
        "\"\"\"\n",
        "\n",
        "for qq in g.query(q1):\n",
        "  print(qq)"
      ],
      "metadata": {
        "colab": {
          "base_uri": "https://localhost:8080/"
        },
        "id": "8mjV5TPg1j1n",
        "outputId": "ca179dd0-855c-49f1-d58d-1c3ede028cf6"
      },
      "execution_count": null,
      "outputs": [
        {
          "output_type": "stream",
          "name": "stdout",
          "text": [
            "(rdflib.term.Literal('온톨로지 및 지식그래프'),)\n"
          ]
        }
      ]
    },
    {
      "cell_type": "markdown",
      "source": [
        "### 외부 온톨로지 불러오기💨"
      ],
      "metadata": {
        "id": "XmDY88C-rAEo"
      }
    },
    {
      "cell_type": "code",
      "source": [
        "# 그래프 객체 생성\n",
        "graph = Graph()\n",
        "\n",
        "# 그래프 불러와서 파싱하기 - 와인 온톨로지\n",
        "graph.parse(\"SNUniversity.owl\", format = 'xml')\n",
        "\n",
        "# 와인 온톨로지 출력\n",
        "print(graph.serialize(format = 'ttl'))"
      ],
      "metadata": {
        "colab": {
          "base_uri": "https://localhost:8080/"
        },
        "id": "hFrvZbpzoTht",
        "outputId": "79fe957d-6004-432e-fe21-71f9748da226"
      },
      "execution_count": null,
      "outputs": [
        {
          "output_type": "stream",
          "name": "stdout",
          "text": [
            "@prefix : <http://www.university.ac.kr/ontology#> .\n",
            "@prefix owl: <http://www.w3.org/2002/07/owl#> .\n",
            "@prefix rdfs: <http://www.w3.org/2000/01/rdf-schema#> .\n",
            "\n",
            "<http://www.university.ac.kr/ontology> a owl:Ontology .\n",
            "\n",
            ":간호학과 a :간호대학,\n",
            "        owl:NamedIndividual .\n",
            "\n",
            ":경영학과 a :경영대학,\n",
            "        owl:NamedIndividual .\n",
            "\n",
            ":교육학과 a :사범대학,\n",
            "        owl:NamedIndividual .\n",
            "\n",
            ":농경제사회학부 a :농생명과학대학,\n",
            "        owl:NamedIndividual .\n",
            "\n",
            ":물리교육과 a :사범대학,\n",
            "        owl:NamedIndividual .\n",
            "\n",
            ":바이오시스템소재학부 a :농생명과학대학,\n",
            "        owl:NamedIndividual .\n",
            "\n",
            ":생명과학부 a :자연과학대학,\n",
            "        owl:NamedIndividual .\n",
            "\n",
            ":서양화과 a :미술대학,\n",
            "        owl:NamedIndividual .\n",
            "\n",
            ":성악과 a :음악대학,\n",
            "        owl:NamedIndividual .\n",
            "\n",
            ":소비자아동학부 a :생활과학대학,\n",
            "        owl:NamedIndividual .\n",
            "\n",
            ":수의예과 a :수의과대학,\n",
            "        owl:NamedIndividual .\n",
            "\n",
            ":수의학과 a :수의과대학,\n",
            "        owl:NamedIndividual .\n",
            "\n",
            ":심리학과 a :사회과학대학,\n",
            "        owl:NamedIndividual .\n",
            "\n",
            ":약학과 a :약학대학,\n",
            "        owl:NamedIndividual .\n",
            "\n",
            ":언론정보학과 a :사회과학대학,\n",
            "        owl:NamedIndividual .\n",
            "\n",
            ":언어학과 a :인문대학,\n",
            "        owl:NamedIndividual .\n",
            "\n",
            ":영어영문학과 a :인문대학,\n",
            "        owl:NamedIndividual .\n",
            "\n",
            ":의류학과 a :생활과학대학,\n",
            "        owl:NamedIndividual .\n",
            "\n",
            ":의예과 a :의과대학,\n",
            "        owl:NamedIndividual .\n",
            "\n",
            ":의학과 a :의과대학,\n",
            "        owl:NamedIndividual .\n",
            "\n",
            ":재료공학부 a :공과대학,\n",
            "        owl:NamedIndividual .\n",
            "\n",
            ":제약학과 a :약학대학,\n",
            "        owl:NamedIndividual .\n",
            "\n",
            ":조소과 a :미술대학,\n",
            "        owl:NamedIndividual .\n",
            "\n",
            ":컴퓨터공학부 a :공과대학,\n",
            "        owl:NamedIndividual .\n",
            "\n",
            ":통계학과 a :자연과학대학,\n",
            "        owl:NamedIndividual .\n",
            "\n",
            ":피아노과 a :음악대학,\n",
            "        owl:NamedIndividual .\n",
            "\n",
            ":University a owl:Class .\n",
            "\n",
            ":간호대학 a owl:Class ;\n",
            "    rdfs:subClassOf :College .\n",
            "\n",
            ":경영대학 a owl:Class ;\n",
            "    rdfs:subClassOf :College .\n",
            "\n",
            ":공과대학 a owl:Class ;\n",
            "    rdfs:subClassOf :College .\n",
            "\n",
            ":농생명과학대학 a owl:Class ;\n",
            "    rdfs:subClassOf :College .\n",
            "\n",
            ":미술대학 a owl:Class ;\n",
            "    rdfs:subClassOf :College .\n",
            "\n",
            ":사범대학 a owl:Class ;\n",
            "    rdfs:subClassOf :College .\n",
            "\n",
            ":사회과학대학 a owl:Class ;\n",
            "    rdfs:subClassOf :College .\n",
            "\n",
            ":생활과학대학 a owl:Class ;\n",
            "    rdfs:subClassOf :College .\n",
            "\n",
            ":수의과대학 a owl:Class ;\n",
            "    rdfs:subClassOf :College .\n",
            "\n",
            ":약학대학 a owl:Class ;\n",
            "    rdfs:subClassOf :College .\n",
            "\n",
            ":음악대학 a owl:Class ;\n",
            "    rdfs:subClassOf :College .\n",
            "\n",
            ":의과대학 a owl:Class ;\n",
            "    rdfs:subClassOf :College .\n",
            "\n",
            ":인문대학 a owl:Class ;\n",
            "    rdfs:subClassOf :College .\n",
            "\n",
            ":자연과학대학 a owl:Class ;\n",
            "    rdfs:subClassOf :College .\n",
            "\n",
            ":College a owl:Class ;\n",
            "    rdfs:subClassOf :University .\n",
            "\n",
            "\n"
          ]
        }
      ]
    },
    {
      "cell_type": "markdown",
      "source": [
        "## RDF Dataset💾"
      ],
      "metadata": {
        "id": "Z5V55_cl4o01"
      }
    },
    {
      "cell_type": "code",
      "source": [
        "# 필요 패키지 불러오기\n",
        "from rdflib import Dataset\n",
        "\n",
        "# 데이터 셋 객체 정의\n",
        "dataset = Dataset()\n",
        "\n",
        "# 그래프 객체 정의 - 데이터 셋에 그래프 2개 삽입\n",
        "graph1 = dataset.graph(URIRef(\"https://www.my.snu.ac.kr/ontology#\"))\n",
        "graph2 = dataset.graph(URIRef(\"http://www.university.ac.kr/ontology#\"))\n",
        "\n",
        "# 온톨로지 파일 불러오기\n",
        "graph1.parse(\"SNUniversity.owl\")\n",
        "graph2.parse(\"SNU.owl\")\n",
        "\n",
        "# dataset 확인\n",
        "for graphs in dataset.graphs():\n",
        "  print(graphs)"
      ],
      "metadata": {
        "colab": {
          "base_uri": "https://localhost:8080/"
        },
        "id": "3BV7LZa6rdf5",
        "outputId": "77687121-eb15-4e5f-80ed-4322a4b1e131"
      },
      "execution_count": null,
      "outputs": [
        {
          "output_type": "stream",
          "name": "stdout",
          "text": [
            "<https://www.my.snu.ac.kr/ontology#> a rdfg:Graph;rdflib:storage [a rdflib:Store;rdfs:label 'Memory'].\n",
            "<http://www.university.ac.kr/ontology#> a rdfg:Graph;rdflib:storage [a rdflib:Store;rdfs:label 'Memory'].\n",
            "<urn:x-rdflib:default> a rdfg:Graph;rdflib:storage [a rdflib:Store;rdfs:label 'Memory'].\n"
          ]
        }
      ]
    },
    {
      "cell_type": "markdown",
      "source": [
        "# owlready2🦉\n",
        "https://owlready2.readthedocs.io/en/latest/intro.html"
      ],
      "metadata": {
        "id": "tD1xcKUAF6ph"
      }
    },
    {
      "cell_type": "code",
      "source": [
        "# 필요 패키지 불러오기\n",
        "from owlready2 import *\n",
        "\n",
        "# root 온톨로지 불러오기\n",
        "ontology = get_ontology(\"seoul_national_university.owl\")\n",
        "ontology.load()"
      ],
      "metadata": {
        "colab": {
          "base_uri": "https://localhost:8080/"
        },
        "id": "DQEmhYq-5e5x",
        "outputId": "ce082fc4-78c8-4f28-e302-51548822f128"
      },
      "execution_count": null,
      "outputs": [
        {
          "output_type": "execute_result",
          "data": {
            "text/plain": [
              "get_ontology(\"https://www.snu.ac.kr#\")"
            ]
          },
          "metadata": {},
          "execution_count": 17
        }
      ]
    },
    {
      "cell_type": "code",
      "source": [
        "with ontology :\n",
        "\n",
        "  # class 만들기\n",
        "  class SNUPeople(Thing):\n",
        "    pass\n",
        "\n",
        "  class Course(Thing) :\n",
        "    pass\n",
        "\n",
        "  ## subclass 만들기\n",
        "  class Professor(SNUPeople):\n",
        "    pass\n",
        "\n",
        "  class Student(SNUPeople):\n",
        "    pass\n",
        "\n",
        "  # object property 만들기\n",
        "  class take_class(Student >> Course):\n",
        "    pass\n",
        "\n",
        "  class teach(Professor >> Course):\n",
        "    pass\n",
        "\n",
        "  # datatype property 만들기\n",
        "  class semester(Course >> str):\n",
        "    pass\n",
        "\n",
        "  # class 제약 만들기 - Student와 Professor 클래스는 양립할 수 없다\n",
        "  AllDisjoint([Student, Professor])\n",
        "\n",
        "  # property 제약 만들기\n",
        "  ## 교수는 일부 수업에서 강의를 한다.\n",
        "  class teach(Professor >> Course):\n",
        "    class_property_type = [\"some\"]\n",
        "\n",
        "  ## take_class - teach 의 관계 정립\n",
        "  take_class = Inverse(teach)\n"
      ],
      "metadata": {
        "id": "h56ceql0_lEo"
      },
      "execution_count": null,
      "outputs": []
    },
    {
      "cell_type": "code",
      "source": [
        "# instance 만들기\n",
        "김홍기 = Professor(\"김홍기\")\n",
        "야마다 = Professor(\"야마다\")\n",
        "빅데이터개론1 = Course('빅데이터개론1')\n",
        "온톨로지 = Course('온톨로지_및_지식그래프')\n",
        "김태형 = Student('김태형')\n",
        "김남준 = Student('김남준')\n",
        "전정국 = Student('전정국')\n",
        "\n",
        "# instance에 owl:oneOf 사용하기\n",
        "Student.is_a.append(OneOf([김태형, 김남준, 전정국]))\n",
        "\n",
        "# object property와 instance 연결\n",
        "야마다.teach = [빅데이터개론1]\n",
        "김남준.take_class = [온톨로지]\n",
        "\n",
        "# datatype property와 instance 연결\n",
        "빅데이터개론1.semester = [\"2023-2\"]\n",
        "\n",
        "# annotation property\n",
        "온톨로지.comment = [\"\"\"본 과목은 온톨로지와 지식그래프 관련 기본 개념을 이해하고 이를 통해 복잡한 지식 구조를 모델링하는 방법을 습득하며,\n",
        "온톨로지와 지식그래프가 어떻게 데이터 통합, 검색, 추론에 활용될 수 있는지를 배우고 분석하는 능력을 학습한다.\n",
        "최종적으로는 온톨로지 구축 도구와 프로그래밍 언어를 사용하여 실제 온톨로지를 설계하고 구현하는 프로젝트를 통해 지식그래프 및 온톨로지 응용 프로그램 개발에 필요한 기술적 능력과 창의적 문제 해결 능력을 개발함을 목적으로 한다.\"\"\"]"
      ],
      "metadata": {
        "id": "FmqDTQpfNdR6"
      },
      "execution_count": null,
      "outputs": []
    },
    {
      "cell_type": "code",
      "source": [
        "# IRI 확인하기\n",
        "Professor.iri"
      ],
      "metadata": {
        "colab": {
          "base_uri": "https://localhost:8080/",
          "height": 35
        },
        "id": "wr4HWEFs_LPh",
        "outputId": "2b928cc3-ebe1-4201-ecd7-f9f8559f7892"
      },
      "execution_count": null,
      "outputs": [
        {
          "output_type": "execute_result",
          "data": {
            "text/plain": [
              "'https://www.snu.ac.kr#Professor'"
            ],
            "application/vnd.google.colaboratory.intrinsic+json": {
              "type": "string"
            }
          },
          "metadata": {},
          "execution_count": 25
        }
      ]
    },
    {
      "cell_type": "code",
      "source": [
        "# SPARQL로 검색하기\n",
        "list(default_world.sparql(\"\"\"\n",
        "PREFIX snu: <https://www.snu.ac.kr#>\n",
        "\n",
        "SELECT *\n",
        "{?x rdfs:subClassOf snu:SNUPeople}\n",
        "\"\"\"))"
      ],
      "metadata": {
        "colab": {
          "base_uri": "https://localhost:8080/"
        },
        "id": "d9kvzY574L8l",
        "outputId": "c5d1d037-f616-4360-958b-90c791eeb38c"
      },
      "execution_count": null,
      "outputs": [
        {
          "output_type": "execute_result",
          "data": {
            "text/plain": [
              "[[seoul_national_university.Professor], [seoul_national_university.Student]]"
            ]
          },
          "metadata": {},
          "execution_count": 26
        }
      ]
    },
    {
      "cell_type": "code",
      "source": [],
      "metadata": {
        "id": "JDoPmwkKpgZz"
      },
      "execution_count": null,
      "outputs": []
    }
  ]
}